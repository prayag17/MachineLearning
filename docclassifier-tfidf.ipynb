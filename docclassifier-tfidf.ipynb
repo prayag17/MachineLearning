{
 "cells": [
  {
   "cell_type": "code",
   "execution_count": 454,
   "metadata": {},
   "outputs": [
    {
     "name": "stdout",
     "output_type": "stream",
     "text": [
      "Index(['Unnamed: 0', 'Data', 'Label'], dtype='object')\n"
     ]
    }
   ],
   "source": [
    "#coding=utf-8\n",
    "import pandas as pd\n",
    "df_train = pd.read_csv('./doctrain.csv').dropna()\n",
    "df_test = pd.read_csv('./doctest.csv').dropna()\n",
    "print(df_test.columns)\n",
    "X_train,Y_train = df_train['Data'],df_train['Label']\n",
    "X_test,Y_test = df_test['Data'],df_test['Label']"
   ]
  },
  {
   "cell_type": "code",
   "execution_count": 455,
   "metadata": {
    "scrolled": true
   },
   "outputs": [
    {
     "data": {
      "text/plain": [
       "pandas.core.frame.DataFrame"
      ]
     },
     "execution_count": 455,
     "metadata": {},
     "output_type": "execute_result"
    }
   ],
   "source": [
    "type(df_train)"
   ]
  },
  {
   "cell_type": "code",
   "execution_count": 456,
   "metadata": {},
   "outputs": [],
   "source": [
    "from sklearn.feature_extraction.text import TfidfVectorizer\n",
    "from sklearn.ensemble import RandomForestClassifier\n",
    "from sklearn.metrics import classification_report,confusion_matrix"
   ]
  },
  {
   "cell_type": "code",
   "execution_count": 457,
   "metadata": {},
   "outputs": [
    {
     "data": {
      "text/plain": [
       "Counter({1: 15, 0: 6})"
      ]
     },
     "execution_count": 457,
     "metadata": {},
     "output_type": "execute_result"
    }
   ],
   "source": [
    "len(df_train)\n",
    "from collections import Counter\n",
    "Counter(df_train['Label'])"
   ]
  },
  {
   "cell_type": "code",
   "execution_count": 458,
   "metadata": {},
   "outputs": [],
   "source": [
    "#unwanted_chars = \".,-_123456789:\"\n",
    "#vectorizer = TfidfVectorizer(tokenizer=lambda x: x.split(),min_df=1)\n",
    "tfidf = TfidfVectorizer(tokenizer=lambda x: x.split(),max_features=200).fit(X_train)\n",
    "X=tfidf.transform(X_train)"
   ]
  },
  {
   "cell_type": "code",
   "execution_count": 459,
   "metadata": {},
   "outputs": [
    {
     "data": {
      "text/plain": [
       "\"'for x in vectorizer.vocabulary_:\\n    #print (x)\\n    for raw_word in x:\\n        #print(raw_word)\\n        if x in unwanted_chars:\\n            wordlist=raw_word.strip(unwanted_chars)\\n        print(wordlist)\""
      ]
     },
     "execution_count": 459,
     "metadata": {},
     "output_type": "execute_result"
    }
   ],
   "source": [
    "''''for x in vectorizer.vocabulary_:\n",
    "    #print (x)\n",
    "    for raw_word in x:\n",
    "        #print(raw_word)\n",
    "        if x in unwanted_chars:\n",
    "            wordlist=raw_word.strip(unwanted_chars)\n",
    "        print(wordlist)'''"
   ]
  },
  {
   "cell_type": "code",
   "execution_count": 460,
   "metadata": {},
   "outputs": [],
   "source": [
    "\n",
    "#tfidf = TfidfVectorizer(tokenizer=lambda x: x.split(),min_df=1).fit(X_train)\n",
    "#print(tfidf.vocabulary_)"
   ]
  },
  {
   "cell_type": "code",
   "execution_count": 461,
   "metadata": {},
   "outputs": [],
   "source": [
    "#tfidf.transform(X_train)[0].toarray()"
   ]
  },
  {
   "cell_type": "code",
   "execution_count": 462,
   "metadata": {},
   "outputs": [
    {
     "name": "stdout",
     "output_type": "stream",
     "text": [
      "  (0, 184)\t0.2504386403921959\n",
      "  (0, 174)\t0.22636232010236487\n",
      "  (0, 170)\t0.2504386403921959\n",
      "  (0, 128)\t0.1683523322538806\n",
      "  (0, 121)\t0.2504386403921959\n",
      "  (0, 91)\t0.22636232010236487\n",
      "  (0, 70)\t0.2504386403921959\n",
      "  (0, 40)\t0.2504386403921959\n",
      "  (0, 25)\t0.10048499713657415\n",
      "  (0, 22)\t0.1924286525437116\n",
      "  (0, 20)\t0.5008772807843918\n",
      "  (0, 19)\t0.2504386403921959\n",
      "  (0, 6)\t0.2076872752298633\n",
      "  (0, 3)\t0.22636232010236487\n",
      "  (0, 1)\t0.3169899699701168\n",
      "  (1, 187)\t0.10167498085432329\n",
      "  (1, 184)\t0.11248932223147526\n",
      "  (1, 174)\t0.30502494256296986\n",
      "  (1, 144)\t0.2554625606711145\n",
      "  (1, 138)\t0.2554625606711145\n",
      "  (1, 129)\t0.11248932223147526\n",
      "  (1, 128)\t0.226856044119268\n",
      "  (1, 126)\t0.09328672600251509\n",
      "  (1, 121)\t0.22497864446295052\n",
      "  (1, 102)\t0.2554625606711145\n",
      "  :\t:\n",
      "  (19, 31)\t0.17870669716925777\n",
      "  (19, 25)\t0.07170355950350812\n",
      "  (19, 18)\t0.29640080254618767\n",
      "  (19, 7)\t0.07873751389051058\n",
      "  (19, 5)\t0.1373122329803584\n",
      "  (19, 2)\t0.12013197807940997\n",
      "  (20, 194)\t0.08627473582665864\n",
      "  (20, 192)\t0.25882420747997587\n",
      "  (20, 191)\t0.17254947165331727\n",
      "  (20, 143)\t0.079157011630346\n",
      "  (20, 120)\t0.09545107830160701\n",
      "  (20, 96)\t0.09545107830160701\n",
      "  (20, 95)\t0.07334140751067146\n",
      "  (20, 90)\t0.09545107830160701\n",
      "  (20, 62)\t0.09545107830160701\n",
      "  (20, 50)\t0.3251532198527825\n",
      "  (20, 49)\t0.7586908463231592\n",
      "  (20, 48)\t0.054007183196705805\n",
      "  (20, 47)\t0.21676881323518835\n",
      "  (20, 38)\t0.08627473582665864\n",
      "  (20, 36)\t0.079157011630346\n",
      "  (20, 35)\t0.09545107830160701\n",
      "  (20, 18)\t0.079157011630346\n",
      "  (20, 5)\t0.07334140751067146\n",
      "  (20, 0)\t0.28635323490482106\n"
     ]
    }
   ],
   "source": [
    "#X_tfidf = tfidf.transform(X_train)\n",
    "print(X)"
   ]
  },
  {
   "cell_type": "code",
   "execution_count": 463,
   "metadata": {},
   "outputs": [],
   "source": [
    "clf_tfidf = RandomForestClassifier(n_estimators=500).fit(X,Y_train)"
   ]
  },
  {
   "cell_type": "code",
   "execution_count": 464,
   "metadata": {},
   "outputs": [
    {
     "data": {
      "text/plain": [
       "1.0"
      ]
     },
     "execution_count": 464,
     "metadata": {},
     "output_type": "execute_result"
    }
   ],
   "source": [
    "clf_tfidf.score(X,Y_train)"
   ]
  },
  {
   "cell_type": "code",
   "execution_count": 465,
   "metadata": {},
   "outputs": [
    {
     "data": {
      "text/html": [
       "<div>\n",
       "<style scoped>\n",
       "    .dataframe tbody tr th:only-of-type {\n",
       "        vertical-align: middle;\n",
       "    }\n",
       "\n",
       "    .dataframe tbody tr th {\n",
       "        vertical-align: top;\n",
       "    }\n",
       "\n",
       "    .dataframe thead th {\n",
       "        text-align: right;\n",
       "    }\n",
       "</style>\n",
       "<table border=\"1\" class=\"dataframe\">\n",
       "  <thead>\n",
       "    <tr style=\"text-align: right;\">\n",
       "      <th></th>\n",
       "      <th>Unnamed: 0</th>\n",
       "      <th>Data</th>\n",
       "      <th>Label</th>\n",
       "    </tr>\n",
       "  </thead>\n",
       "  <tbody>\n",
       "    <tr>\n",
       "      <th>0</th>\n",
       "      <td>0</td>\n",
       "      <td>Subject: പാലക്കാട്\\nസംഗീതത്തിന്റെയും ഉത്സവങ്ങള...</td>\n",
       "      <td>1</td>\n",
       "    </tr>\n",
       "    <tr>\n",
       "      <th>1</th>\n",
       "      <td>1</td>\n",
       "      <td>Subject: ഇടുക്കി \\nപച്ചപുതച്ച നിബിഢ വനങ്ങളും ഉ...</td>\n",
       "      <td>1</td>\n",
       "    </tr>\n",
       "    <tr>\n",
       "      <th>2</th>\n",
       "      <td>2</td>\n",
       "      <td>Subject: തേക്കടി \\n\\nപ്രകൃതിയുടെ ലാളനമേറ്റുവാങ...</td>\n",
       "      <td>1</td>\n",
       "    </tr>\n",
       "    <tr>\n",
       "      <th>3</th>\n",
       "      <td>3</td>\n",
       "      <td>Subject:കല്‍പ്പറ്റ \\n\\nവയനാടന്‍ പെരുമയുമായി . ...</td>\n",
       "      <td>1</td>\n",
       "    </tr>\n",
       "    <tr>\n",
       "      <th>4</th>\n",
       "      <td>4</td>\n",
       "      <td>Subject: മലയാളം\\nഇന്ത്യയിൽ‌ പ്രധാനമായും കേരള സ...</td>\n",
       "      <td>0</td>\n",
       "    </tr>\n",
       "    <tr>\n",
       "      <th>5</th>\n",
       "      <td>5</td>\n",
       "      <td>Subject: നേപ്പാളി ഭാഷ\\nനേപ്പാൾ, ഭൂട്ടാൻ എന്നിവ...</td>\n",
       "      <td>0</td>\n",
       "    </tr>\n",
       "    <tr>\n",
       "      <th>6</th>\n",
       "      <td>6</td>\n",
       "      <td>Subject: സിന്ധി\\nസിന്ധി  ഇപ്പോൾ പാകിസ്താനിൽ സ്...</td>\n",
       "      <td>0</td>\n",
       "    </tr>\n",
       "    <tr>\n",
       "      <th>7</th>\n",
       "      <td>7</td>\n",
       "      <td>Subject: പഞ്ചാബി ഭാഷ\\nലോകമെമ്പാടുമായി പത്തുകോട...</td>\n",
       "      <td>0</td>\n",
       "    </tr>\n",
       "    <tr>\n",
       "      <th>8</th>\n",
       "      <td>8</td>\n",
       "      <td>Subject: കടലുണ്ടി പക്ഷി സങ്കേതം\\nമലപ്പുറം ജില്...</td>\n",
       "      <td>1</td>\n",
       "    </tr>\n",
       "    <tr>\n",
       "      <th>9</th>\n",
       "      <td>9</td>\n",
       "      <td>Subject: സിന്ധി\\nസിന്ധി  ഇപ്പോൾ പാകിസ്താനിൽ സ്...</td>\n",
       "      <td>0</td>\n",
       "    </tr>\n",
       "    <tr>\n",
       "      <th>10</th>\n",
       "      <td>10</td>\n",
       "      <td>Subject: ബോഡോ\\nവടക്ക്കിഴക്കൻ ഇന്ത്യയിൽ സംസാരിക...</td>\n",
       "      <td>0</td>\n",
       "    </tr>\n",
       "    <tr>\n",
       "      <th>11</th>\n",
       "      <td>11</td>\n",
       "      <td>Subject: ദോഗ്രി\\nഇന്ത്യയിൽ ഏകദേശം 50 ലക്ഷത്തോള...</td>\n",
       "      <td>0</td>\n",
       "    </tr>\n",
       "    <tr>\n",
       "      <th>12</th>\n",
       "      <td>12</td>\n",
       "      <td>Subject: സന്താലി ഭാഷ\\nസന്താൾ വംശജരുടെ ഭാഷയായ സ...</td>\n",
       "      <td>0</td>\n",
       "    </tr>\n",
       "    <tr>\n",
       "      <th>13</th>\n",
       "      <td>13</td>\n",
       "      <td>Subject: ആസ്സാമീസ്\\nഇന്ത്യയിലെ വടക്കുകിഴക്കൻ സ...</td>\n",
       "      <td>0</td>\n",
       "    </tr>\n",
       "    <tr>\n",
       "      <th>14</th>\n",
       "      <td>14</td>\n",
       "      <td>Subject: തെലുഗു ഭാഷ\\nഇന്ത്യൻ സംസ്ഥാനങ്ങളായ ആന്...</td>\n",
       "      <td>0</td>\n",
       "    </tr>\n",
       "    <tr>\n",
       "      <th>15</th>\n",
       "      <td>15</td>\n",
       "      <td>Subject: ഇടുക്കി ജില്ല\\nകേരളത്തിന്റെ മധ്യഭാഗത്...</td>\n",
       "      <td>1</td>\n",
       "    </tr>\n",
       "    <tr>\n",
       "      <th>16</th>\n",
       "      <td>16</td>\n",
       "      <td>Subject: പത്തനംതിട്ട ജില്ല\\nകേരളത്തിലെ ഒരു ജില...</td>\n",
       "      <td>1</td>\n",
       "    </tr>\n",
       "    <tr>\n",
       "      <th>17</th>\n",
       "      <td>17</td>\n",
       "      <td>Subject: കൊല്ലം ജില്ല\\nകേരളത്തിലെ തെക്കുഭാഗത്ത...</td>\n",
       "      <td>1</td>\n",
       "    </tr>\n",
       "    <tr>\n",
       "      <th>18</th>\n",
       "      <td>18</td>\n",
       "      <td>Subject: പാലരുവി വെള്ളച്ചാട്ടം\\nകേരളത്തിലെ കൊല...</td>\n",
       "      <td>1</td>\n",
       "    </tr>\n",
       "    <tr>\n",
       "      <th>19</th>\n",
       "      <td>19</td>\n",
       "      <td>Subject: ആര്യങ്കാവ്\\nകേരളത്തിലെ കൊല്ലം ജില്ലയി...</td>\n",
       "      <td>1</td>\n",
       "    </tr>\n",
       "    <tr>\n",
       "      <th>20</th>\n",
       "      <td>20</td>\n",
       "      <td>Subject: തൃപ്പൂണിത്തുറ\\nതൃപ്പൂണിത്തുറ കൊച്ചി ന...</td>\n",
       "      <td>1</td>\n",
       "    </tr>\n",
       "  </tbody>\n",
       "</table>\n",
       "</div>"
      ],
      "text/plain": [
       "    Unnamed: 0                                               Data  Label\n",
       "0            0  Subject: പാലക്കാട്\\nസംഗീതത്തിന്റെയും ഉത്സവങ്ങള...      1\n",
       "1            1  Subject: ഇടുക്കി \\nപച്ചപുതച്ച നിബിഢ വനങ്ങളും ഉ...      1\n",
       "2            2  Subject: തേക്കടി \\n\\nപ്രകൃതിയുടെ ലാളനമേറ്റുവാങ...      1\n",
       "3            3  Subject:കല്‍പ്പറ്റ \\n\\nവയനാടന്‍ പെരുമയുമായി . ...      1\n",
       "4            4  Subject: മലയാളം\\nഇന്ത്യയിൽ‌ പ്രധാനമായും കേരള സ...      0\n",
       "5            5  Subject: നേപ്പാളി ഭാഷ\\nനേപ്പാൾ, ഭൂട്ടാൻ എന്നിവ...      0\n",
       "6            6  Subject: സിന്ധി\\nസിന്ധി  ഇപ്പോൾ പാകിസ്താനിൽ സ്...      0\n",
       "7            7  Subject: പഞ്ചാബി ഭാഷ\\nലോകമെമ്പാടുമായി പത്തുകോട...      0\n",
       "8            8  Subject: കടലുണ്ടി പക്ഷി സങ്കേതം\\nമലപ്പുറം ജില്...      1\n",
       "9            9  Subject: സിന്ധി\\nസിന്ധി  ഇപ്പോൾ പാകിസ്താനിൽ സ്...      0\n",
       "10          10  Subject: ബോഡോ\\nവടക്ക്കിഴക്കൻ ഇന്ത്യയിൽ സംസാരിക...      0\n",
       "11          11  Subject: ദോഗ്രി\\nഇന്ത്യയിൽ ഏകദേശം 50 ലക്ഷത്തോള...      0\n",
       "12          12  Subject: സന്താലി ഭാഷ\\nസന്താൾ വംശജരുടെ ഭാഷയായ സ...      0\n",
       "13          13  Subject: ആസ്സാമീസ്\\nഇന്ത്യയിലെ വടക്കുകിഴക്കൻ സ...      0\n",
       "14          14  Subject: തെലുഗു ഭാഷ\\nഇന്ത്യൻ സംസ്ഥാനങ്ങളായ ആന്...      0\n",
       "15          15  Subject: ഇടുക്കി ജില്ല\\nകേരളത്തിന്റെ മധ്യഭാഗത്...      1\n",
       "16          16  Subject: പത്തനംതിട്ട ജില്ല\\nകേരളത്തിലെ ഒരു ജില...      1\n",
       "17          17  Subject: കൊല്ലം ജില്ല\\nകേരളത്തിലെ തെക്കുഭാഗത്ത...      1\n",
       "18          18  Subject: പാലരുവി വെള്ളച്ചാട്ടം\\nകേരളത്തിലെ കൊല...      1\n",
       "19          19  Subject: ആര്യങ്കാവ്\\nകേരളത്തിലെ കൊല്ലം ജില്ലയി...      1\n",
       "20          20  Subject: തൃപ്പൂണിത്തുറ\\nതൃപ്പൂണിത്തുറ കൊച്ചി ന...      1"
      ]
     },
     "execution_count": 465,
     "metadata": {},
     "output_type": "execute_result"
    }
   ],
   "source": [
    "df_test"
   ]
  },
  {
   "cell_type": "code",
   "execution_count": 466,
   "metadata": {},
   "outputs": [
    {
     "data": {
      "text/plain": [
       "0.8095238095238095"
      ]
     },
     "execution_count": 466,
     "metadata": {},
     "output_type": "execute_result"
    }
   ],
   "source": [
    "X_test_tfidf = tfidf.transform(X_test)\n",
    "clf_tfidf.score(X_test_tfidf,Y_test)"
   ]
  },
  {
   "cell_type": "code",
   "execution_count": 467,
   "metadata": {},
   "outputs": [
    {
     "data": {
      "text/plain": [
       "array([[ 6,  4],\n",
       "       [ 0, 11]])"
      ]
     },
     "execution_count": 467,
     "metadata": {},
     "output_type": "execute_result"
    }
   ],
   "source": [
    "confusion_matrix(Y_test,clf_tfidf.predict(X_test_tfidf))"
   ]
  },
  {
   "cell_type": "code",
   "execution_count": 468,
   "metadata": {},
   "outputs": [
    {
     "name": "stdout",
     "output_type": "stream",
     "text": [
      "             precision    recall  f1-score   support\n",
      "\n",
      "          0       0.33      0.33      0.33         6\n",
      "          1       0.73      0.73      0.73        15\n",
      "\n",
      "avg / total       0.62      0.62      0.62        21\n",
      "\n"
     ]
    }
   ],
   "source": [
    "print(classification_report(Y_train,clf_tfidf.predict(X_test_tfidf)))"
   ]
  },
  {
   "cell_type": "code",
   "execution_count": 469,
   "metadata": {},
   "outputs": [
    {
     "data": {
      "text/plain": [
       "array([1])"
      ]
     },
     "execution_count": 469,
     "metadata": {},
     "output_type": "execute_result"
    }
   ],
   "source": [
    "clf_tfidf.predict(tfidf.transform(['കന്നട']))"
   ]
  },
  {
   "cell_type": "code",
   "execution_count": 470,
   "metadata": {},
   "outputs": [
    {
     "data": {
      "text/plain": [
       "array([1])"
      ]
     },
     "execution_count": 470,
     "metadata": {},
     "output_type": "execute_result"
    }
   ],
   "source": [
    "clf_tfidf.predict(tfidf.transform(['മൂവാറ്റുപുഴ']))"
   ]
  }
 ],
 "metadata": {
  "anaconda-cloud": {},
  "kernelspec": {
   "display_name": "Python 3",
   "language": "python",
   "name": "python3"
  },
  "language_info": {
   "codemirror_mode": {
    "name": "ipython",
    "version": 3
   },
   "file_extension": ".py",
   "mimetype": "text/x-python",
   "name": "python",
   "nbconvert_exporter": "python",
   "pygments_lexer": "ipython3",
   "version": "3.6.5"
  }
 },
 "nbformat": 4,
 "nbformat_minor": 2
}
